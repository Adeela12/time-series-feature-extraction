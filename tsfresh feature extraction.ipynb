{
 "cells": [
  {
   "cell_type": "markdown",
   "metadata": {},
   "source": [
    "# tsfresh's feature extraction\n",
    "\n",
    "Notebook with feature extraction provided by _tsfresh library_ for use it to train prediction models.\n",
    "Cuaderno con la extracción de características que proporciona la librería tsfresh para su uso en el entrenamiento de modelos de predicción.\n",
    "\n",
    "\n",
    "100 time-series dataframe with energy consumption every 5 minutes of 100 different commercial locations will be used to clasify the sub-industry to which each trade belongs.\n",
    "\n",
    "Following tasks will be done:\n",
    "1. Extract all time-series features (754)\n",
    "2. Training different models with the feature matrix extracted to predict the subindustry of some sites.\n",
    "3. Extract 28 specific time-series features.\n",
    "4. Training different models with the feature matrix extracted to predict the subindustry of some sites.\n",
    "5. Select relevant features from all features extracted for classification tasks.\n",
    "6. Training different models with the feature matrix extracted to predict the subindustry of some sites."
   ]
  },
  {
   "cell_type": "code",
   "execution_count": 1,
   "metadata": {},
   "outputs": [],
   "source": [
    "from khiva.dimensionality import *\n",
    "from khiva.library import *\n",
    "from khiva.array import *\n",
    "import pandas as pd\n",
    "import time\n",
    "import matplotlib.pyplot as plt\n",
    "from ipywidgets import IntSlider, SelectionSlider, interact\n",
    "import warnings \n",
    "warnings.filterwarnings('ignore')\n",
    "\n",
    "%config IPCompleter.greedy=True\n",
    "%matplotlib inline\n",
    "plt.rcParams['figure.figsize'] = [16, 5]"
   ]
  },
  {
   "cell_type": "markdown",
   "metadata": {},
   "source": [
    " We load the dataset and convert it into one option that _tsfresh library_ offers to specify the time series data to be used in the feature extraction function.\n",
    "https://tsfresh.readthedocs.io/en/latest/text/data_formats.html "
   ]
  },
  {
   "cell_type": "code",
   "execution_count": 2,
   "metadata": {},
   "outputs": [
    {
     "data": {
      "text/plain": [
       "array([  6,   8,   9,  10,  12,  13,  14,  21,  22,  25,  29,  30,  31,\n",
       "        32,  36,  41,  42,  44,  45,  49,  51,  55,  56,  65,  78,  88,\n",
       "        92,  99, 100, 101, 103, 109, 111, 116, 136, 137, 144, 153, 186,\n",
       "       197, 213, 214, 217, 218, 224, 228, 236, 259, 270, 275, 281, 285,\n",
       "       304, 339, 341, 363, 366, 384, 386, 391, 399, 400, 401, 404, 427,\n",
       "       454, 455, 472, 474, 475, 478, 484, 492, 496, 512, 648, 654, 673,\n",
       "       674, 690, 697, 703, 716, 718, 731, 737, 742, 744, 745, 755, 761,\n",
       "       765, 766, 767, 771, 786, 805, 808, 832, 887], dtype=int64)"
      ]
     },
     "execution_count": 2,
     "metadata": {},
     "output_type": "execute_result"
    }
   ],
   "source": [
    "all_sites = pd.read_csv(\"../data_exploration/energy/data/data-enerNoc/all-data/meta/all_sites.csv\")\n",
    "sites_id = all_sites['SITE_ID'].values\n",
    "sites_id"
   ]
  },
  {
   "cell_type": "code",
   "execution_count": 3,
   "metadata": {},
   "outputs": [],
   "source": [
    "dataframe = pd.DataFrame()\n",
    "cont = 0\n",
    "for i in sites_id:\n",
    "    df = pd.read_csv('../data_exploration/energy/data/data-enerNoc/all-data/csv/%d.csv' % i)\n",
    "    data = df[:3000]\n",
    "    data.reset_index(inplace=True)\n",
    "    data = data.rename(columns={\"index\": \"time\"})\n",
    "    data = data.drop(list(('timestamp', 'dttm_utc', 'anomaly', 'estimated')), axis=1)\n",
    "    data['index']=np.full(3000, cont)\n",
    "    frames=[dataframe, data]\n",
    "    dataframe= pd.concat(frames)\n",
    "    cont+=1\n"
   ]
  },
  {
   "cell_type": "code",
   "execution_count": 4,
   "metadata": {},
   "outputs": [
    {
     "data": {
      "text/html": [
       "<div>\n",
       "<style>\n",
       "    .dataframe thead tr:only-child th {\n",
       "        text-align: right;\n",
       "    }\n",
       "\n",
       "    .dataframe thead th {\n",
       "        text-align: left;\n",
       "    }\n",
       "\n",
       "    .dataframe tbody tr th {\n",
       "        vertical-align: top;\n",
       "    }\n",
       "</style>\n",
       "<table border=\"1\" class=\"dataframe\">\n",
       "  <thead>\n",
       "    <tr style=\"text-align: right;\">\n",
       "      <th></th>\n",
       "      <th>time</th>\n",
       "      <th>value</th>\n",
       "      <th>index</th>\n",
       "    </tr>\n",
       "  </thead>\n",
       "  <tbody>\n",
       "    <tr>\n",
       "      <th>2995</th>\n",
       "      <td>2995</td>\n",
       "      <td>50.9889</td>\n",
       "      <td>99</td>\n",
       "    </tr>\n",
       "    <tr>\n",
       "      <th>2996</th>\n",
       "      <td>2996</td>\n",
       "      <td>51.5618</td>\n",
       "      <td>99</td>\n",
       "    </tr>\n",
       "    <tr>\n",
       "      <th>2997</th>\n",
       "      <td>2997</td>\n",
       "      <td>52.1347</td>\n",
       "      <td>99</td>\n",
       "    </tr>\n",
       "    <tr>\n",
       "      <th>2998</th>\n",
       "      <td>2998</td>\n",
       "      <td>53.2805</td>\n",
       "      <td>99</td>\n",
       "    </tr>\n",
       "    <tr>\n",
       "      <th>2999</th>\n",
       "      <td>2999</td>\n",
       "      <td>55.5722</td>\n",
       "      <td>99</td>\n",
       "    </tr>\n",
       "  </tbody>\n",
       "</table>\n",
       "</div>"
      ],
      "text/plain": [
       "      time    value  index\n",
       "2995  2995  50.9889     99\n",
       "2996  2996  51.5618     99\n",
       "2997  2997  52.1347     99\n",
       "2998  2998  53.2805     99\n",
       "2999  2999  55.5722     99"
      ]
     },
     "execution_count": 4,
     "metadata": {},
     "output_type": "execute_result"
    }
   ],
   "source": [
    "dataframe.tail()"
   ]
  },
  {
   "cell_type": "markdown",
   "metadata": {},
   "source": [
    "# 1. Classification on all the features extracted"
   ]
  },
  {
   "cell_type": "markdown",
   "metadata": {},
   "source": [
    "We use _tsfresh_ to extract all features"
   ]
  },
  {
   "cell_type": "code",
   "execution_count": 5,
   "metadata": {},
   "outputs": [
    {
     "name": "stderr",
     "output_type": "stream",
     "text": [
      "Feature Extraction: 100%|██████████████████████████████████████████████████████████████| 25/25 [11:52<00:00, 28.49s/it]\n"
     ]
    },
    {
     "name": "stdout",
     "output_type": "stream",
     "text": [
      "Time to extract the features : 713.1246609687805 seconds.\n"
     ]
    }
   ],
   "source": [
    "from tsfresh import extract_features\n",
    "\n",
    "start = time.time()\n",
    "\n",
    "X = extract_features(dataframe, column_id='index', column_sort='time')\n",
    "\n",
    "print(\"Time to extract the features : \" + str(time.time() - start) + \" seconds.\")"
   ]
  },
  {
   "cell_type": "code",
   "execution_count": 5,
   "metadata": {},
   "outputs": [],
   "source": [
    "#X.to_csv('754_features.csv')\n",
    "X = pd.read_csv(\"754_features.csv\")\n"
   ]
  },
  {
   "cell_type": "code",
   "execution_count": 6,
   "metadata": {},
   "outputs": [
    {
     "data": {
      "text/html": [
       "<div>\n",
       "<style>\n",
       "    .dataframe thead tr:only-child th {\n",
       "        text-align: right;\n",
       "    }\n",
       "\n",
       "    .dataframe thead th {\n",
       "        text-align: left;\n",
       "    }\n",
       "\n",
       "    .dataframe tbody tr th {\n",
       "        vertical-align: top;\n",
       "    }\n",
       "</style>\n",
       "<table border=\"1\" class=\"dataframe\">\n",
       "  <thead>\n",
       "    <tr style=\"text-align: right;\">\n",
       "      <th></th>\n",
       "      <th>id</th>\n",
       "      <th>value__abs_energy</th>\n",
       "      <th>value__absolute_sum_of_changes</th>\n",
       "      <th>value__agg_autocorrelation__f_agg_\"mean\"__maxlag_40</th>\n",
       "      <th>value__agg_autocorrelation__f_agg_\"median\"__maxlag_40</th>\n",
       "      <th>value__agg_autocorrelation__f_agg_\"var\"__maxlag_40</th>\n",
       "      <th>value__agg_linear_trend__f_agg_\"max\"__chunk_len_10__attr_\"intercept\"</th>\n",
       "      <th>value__agg_linear_trend__f_agg_\"max\"__chunk_len_10__attr_\"rvalue\"</th>\n",
       "      <th>value__agg_linear_trend__f_agg_\"max\"__chunk_len_10__attr_\"slope\"</th>\n",
       "      <th>value__agg_linear_trend__f_agg_\"max\"__chunk_len_10__attr_\"stderr\"</th>\n",
       "      <th>...</th>\n",
       "      <th>value__symmetry_looking__r_0.9</th>\n",
       "      <th>value__symmetry_looking__r_0.9500000000000001</th>\n",
       "      <th>value__time_reversal_asymmetry_statistic__lag_1</th>\n",
       "      <th>value__time_reversal_asymmetry_statistic__lag_2</th>\n",
       "      <th>value__time_reversal_asymmetry_statistic__lag_3</th>\n",
       "      <th>value__value_count__value_-1</th>\n",
       "      <th>value__value_count__value_0</th>\n",
       "      <th>value__value_count__value_1</th>\n",
       "      <th>value__variance</th>\n",
       "      <th>value__variance_larger_than_standard_deviation</th>\n",
       "    </tr>\n",
       "  </thead>\n",
       "  <tbody>\n",
       "    <tr>\n",
       "      <th>95</th>\n",
       "      <td>95</td>\n",
       "      <td>1.692200e+08</td>\n",
       "      <td>19505.5733</td>\n",
       "      <td>0.493020</td>\n",
       "      <td>0.444073</td>\n",
       "      <td>0.017527</td>\n",
       "      <td>259.695018</td>\n",
       "      <td>-0.436424</td>\n",
       "      <td>-0.090913</td>\n",
       "      <td>0.010857</td>\n",
       "      <td>...</td>\n",
       "      <td>1.0</td>\n",
       "      <td>1.0</td>\n",
       "      <td>-2919.373163</td>\n",
       "      <td>-5671.586137</td>\n",
       "      <td>-8035.872946</td>\n",
       "      <td>0.0</td>\n",
       "      <td>0.0</td>\n",
       "      <td>0.0</td>\n",
       "      <td>488.712955</td>\n",
       "      <td>1.0</td>\n",
       "    </tr>\n",
       "    <tr>\n",
       "      <th>96</th>\n",
       "      <td>96</td>\n",
       "      <td>2.990861e+05</td>\n",
       "      <td>1546.8603</td>\n",
       "      <td>0.902067</td>\n",
       "      <td>0.895880</td>\n",
       "      <td>0.001285</td>\n",
       "      <td>6.589746</td>\n",
       "      <td>0.337939</td>\n",
       "      <td>0.021413</td>\n",
       "      <td>0.003455</td>\n",
       "      <td>...</td>\n",
       "      <td>1.0</td>\n",
       "      <td>1.0</td>\n",
       "      <td>0.881082</td>\n",
       "      <td>1.411394</td>\n",
       "      <td>1.805925</td>\n",
       "      <td>0.0</td>\n",
       "      <td>0.0</td>\n",
       "      <td>0.0</td>\n",
       "      <td>26.307800</td>\n",
       "      <td>1.0</td>\n",
       "    </tr>\n",
       "    <tr>\n",
       "      <th>97</th>\n",
       "      <td>97</td>\n",
       "      <td>2.087297e+05</td>\n",
       "      <td>2341.2617</td>\n",
       "      <td>0.843913</td>\n",
       "      <td>0.856522</td>\n",
       "      <td>0.006768</td>\n",
       "      <td>8.677254</td>\n",
       "      <td>-0.013005</td>\n",
       "      <td>-0.000695</td>\n",
       "      <td>0.003095</td>\n",
       "      <td>...</td>\n",
       "      <td>1.0</td>\n",
       "      <td>1.0</td>\n",
       "      <td>-0.095115</td>\n",
       "      <td>-0.006596</td>\n",
       "      <td>0.210329</td>\n",
       "      <td>0.0</td>\n",
       "      <td>0.0</td>\n",
       "      <td>0.0</td>\n",
       "      <td>16.561033</td>\n",
       "      <td>1.0</td>\n",
       "    </tr>\n",
       "    <tr>\n",
       "      <th>98</th>\n",
       "      <td>98</td>\n",
       "      <td>2.707565e+07</td>\n",
       "      <td>12878.5865</td>\n",
       "      <td>0.928992</td>\n",
       "      <td>0.929781</td>\n",
       "      <td>0.001578</td>\n",
       "      <td>47.180613</td>\n",
       "      <td>0.344286</td>\n",
       "      <td>0.237675</td>\n",
       "      <td>0.037546</td>\n",
       "      <td>...</td>\n",
       "      <td>1.0</td>\n",
       "      <td>1.0</td>\n",
       "      <td>237.329758</td>\n",
       "      <td>461.401345</td>\n",
       "      <td>699.208698</td>\n",
       "      <td>0.0</td>\n",
       "      <td>0.0</td>\n",
       "      <td>0.0</td>\n",
       "      <td>3289.337288</td>\n",
       "      <td>1.0</td>\n",
       "    </tr>\n",
       "    <tr>\n",
       "      <th>99</th>\n",
       "      <td>99</td>\n",
       "      <td>3.245633e+07</td>\n",
       "      <td>5499.3625</td>\n",
       "      <td>0.858164</td>\n",
       "      <td>0.868876</td>\n",
       "      <td>0.009696</td>\n",
       "      <td>83.421594</td>\n",
       "      <td>0.154652</td>\n",
       "      <td>0.086579</td>\n",
       "      <td>0.032040</td>\n",
       "      <td>...</td>\n",
       "      <td>1.0</td>\n",
       "      <td>1.0</td>\n",
       "      <td>18.410172</td>\n",
       "      <td>-41.891282</td>\n",
       "      <td>-123.219068</td>\n",
       "      <td>0.0</td>\n",
       "      <td>0.0</td>\n",
       "      <td>0.0</td>\n",
       "      <td>2256.806057</td>\n",
       "      <td>1.0</td>\n",
       "    </tr>\n",
       "  </tbody>\n",
       "</table>\n",
       "<p>5 rows × 755 columns</p>\n",
       "</div>"
      ],
      "text/plain": [
       "    id  value__abs_energy  value__absolute_sum_of_changes  \\\n",
       "95  95       1.692200e+08                      19505.5733   \n",
       "96  96       2.990861e+05                       1546.8603   \n",
       "97  97       2.087297e+05                       2341.2617   \n",
       "98  98       2.707565e+07                      12878.5865   \n",
       "99  99       3.245633e+07                       5499.3625   \n",
       "\n",
       "    value__agg_autocorrelation__f_agg_\"mean\"__maxlag_40  \\\n",
       "95                                           0.493020     \n",
       "96                                           0.902067     \n",
       "97                                           0.843913     \n",
       "98                                           0.928992     \n",
       "99                                           0.858164     \n",
       "\n",
       "    value__agg_autocorrelation__f_agg_\"median\"__maxlag_40  \\\n",
       "95                                           0.444073       \n",
       "96                                           0.895880       \n",
       "97                                           0.856522       \n",
       "98                                           0.929781       \n",
       "99                                           0.868876       \n",
       "\n",
       "    value__agg_autocorrelation__f_agg_\"var\"__maxlag_40  \\\n",
       "95                                           0.017527    \n",
       "96                                           0.001285    \n",
       "97                                           0.006768    \n",
       "98                                           0.001578    \n",
       "99                                           0.009696    \n",
       "\n",
       "    value__agg_linear_trend__f_agg_\"max\"__chunk_len_10__attr_\"intercept\"  \\\n",
       "95                                         259.695018                      \n",
       "96                                           6.589746                      \n",
       "97                                           8.677254                      \n",
       "98                                          47.180613                      \n",
       "99                                          83.421594                      \n",
       "\n",
       "    value__agg_linear_trend__f_agg_\"max\"__chunk_len_10__attr_\"rvalue\"  \\\n",
       "95                                          -0.436424                   \n",
       "96                                           0.337939                   \n",
       "97                                          -0.013005                   \n",
       "98                                           0.344286                   \n",
       "99                                           0.154652                   \n",
       "\n",
       "    value__agg_linear_trend__f_agg_\"max\"__chunk_len_10__attr_\"slope\"  \\\n",
       "95                                          -0.090913                  \n",
       "96                                           0.021413                  \n",
       "97                                          -0.000695                  \n",
       "98                                           0.237675                  \n",
       "99                                           0.086579                  \n",
       "\n",
       "    value__agg_linear_trend__f_agg_\"max\"__chunk_len_10__attr_\"stderr\"  \\\n",
       "95                                           0.010857                   \n",
       "96                                           0.003455                   \n",
       "97                                           0.003095                   \n",
       "98                                           0.037546                   \n",
       "99                                           0.032040                   \n",
       "\n",
       "                         ...                        \\\n",
       "95                       ...                         \n",
       "96                       ...                         \n",
       "97                       ...                         \n",
       "98                       ...                         \n",
       "99                       ...                         \n",
       "\n",
       "    value__symmetry_looking__r_0.9  \\\n",
       "95                             1.0   \n",
       "96                             1.0   \n",
       "97                             1.0   \n",
       "98                             1.0   \n",
       "99                             1.0   \n",
       "\n",
       "    value__symmetry_looking__r_0.9500000000000001  \\\n",
       "95                                            1.0   \n",
       "96                                            1.0   \n",
       "97                                            1.0   \n",
       "98                                            1.0   \n",
       "99                                            1.0   \n",
       "\n",
       "    value__time_reversal_asymmetry_statistic__lag_1  \\\n",
       "95                                     -2919.373163   \n",
       "96                                         0.881082   \n",
       "97                                        -0.095115   \n",
       "98                                       237.329758   \n",
       "99                                        18.410172   \n",
       "\n",
       "    value__time_reversal_asymmetry_statistic__lag_2  \\\n",
       "95                                     -5671.586137   \n",
       "96                                         1.411394   \n",
       "97                                        -0.006596   \n",
       "98                                       461.401345   \n",
       "99                                       -41.891282   \n",
       "\n",
       "    value__time_reversal_asymmetry_statistic__lag_3  \\\n",
       "95                                     -8035.872946   \n",
       "96                                         1.805925   \n",
       "97                                         0.210329   \n",
       "98                                       699.208698   \n",
       "99                                      -123.219068   \n",
       "\n",
       "    value__value_count__value_-1  value__value_count__value_0  \\\n",
       "95                           0.0                          0.0   \n",
       "96                           0.0                          0.0   \n",
       "97                           0.0                          0.0   \n",
       "98                           0.0                          0.0   \n",
       "99                           0.0                          0.0   \n",
       "\n",
       "    value__value_count__value_1  value__variance  \\\n",
       "95                          0.0       488.712955   \n",
       "96                          0.0        26.307800   \n",
       "97                          0.0        16.561033   \n",
       "98                          0.0      3289.337288   \n",
       "99                          0.0      2256.806057   \n",
       "\n",
       "    value__variance_larger_than_standard_deviation  \n",
       "95                                             1.0  \n",
       "96                                             1.0  \n",
       "97                                             1.0  \n",
       "98                                             1.0  \n",
       "99                                             1.0  \n",
       "\n",
       "[5 rows x 755 columns]"
      ]
     },
     "execution_count": 6,
     "metadata": {},
     "output_type": "execute_result"
    }
   ],
   "source": [
    "X.tail()"
   ]
  },
  {
   "cell_type": "code",
   "execution_count": 7,
   "metadata": {},
   "outputs": [],
   "source": [
    "X['value__friedrich_coefficients__m_3__r_30__coeff_0'].fillna((X['value__friedrich_coefficients__m_3__r_30__coeff_0'].mean()), inplace=True)\n",
    "X['value__friedrich_coefficients__m_3__r_30__coeff_1'].fillna((X['value__friedrich_coefficients__m_3__r_30__coeff_1'].mean()), inplace=True)\n",
    "X['value__friedrich_coefficients__m_3__r_30__coeff_2'].fillna((X['value__friedrich_coefficients__m_3__r_30__coeff_2'].mean()), inplace=True)\n",
    "X['value__friedrich_coefficients__m_3__r_30__coeff_3'].fillna((X['value__friedrich_coefficients__m_3__r_30__coeff_3'].mean()), inplace=True)\n",
    "X['value__max_langevin_fixed_point__m_3__r_30'].fillna((X['value__max_langevin_fixed_point__m_3__r_30'].mean()), inplace=True)"
   ]
  },
  {
   "cell_type": "code",
   "execution_count": 8,
   "metadata": {},
   "outputs": [],
   "source": [
    "from sklearn.preprocessing import scale\n",
    "X = X.drop('id', axis=1)\n",
    "X=scale(X)"
   ]
  },
  {
   "cell_type": "markdown",
   "metadata": {},
   "source": [
    "## Split the dataset into train and test subsets"
   ]
  },
  {
   "cell_type": "code",
   "execution_count": 9,
   "metadata": {},
   "outputs": [],
   "source": [
    "from sklearn.preprocessing import scale\n",
    "y = all_sites[\"SUB_INDUSTRY\"].values"
   ]
  },
  {
   "cell_type": "code",
   "execution_count": 10,
   "metadata": {},
   "outputs": [],
   "source": [
    "import sklearn\n",
    "file_names = []\n",
    "# This is needed to check the accuracy of the predictive modelling step.\n",
    "for name in all_sites[\"SITE_ID\"].values:\n",
    "    file_names.append(name)\n",
    "    \n",
    "for i in range(15):\n",
    "    X, y, file_names = sklearn.utils.shuffle(X, y, file_names, random_state=0)"
   ]
  },
  {
   "cell_type": "code",
   "execution_count": 11,
   "metadata": {},
   "outputs": [
    {
     "name": "stdout",
     "output_type": "stream",
     "text": [
      "[0, 10, 18, 22, 30, 33, 39, 44, 45, 53, 70, 73, 80, 83, 90]\n"
     ]
    }
   ],
   "source": [
    "files_test = []\n",
    "list_test_indices = []\n",
    "test_files = [92, 45, 761, 10, 766, 400, 673, 49, 144, 496, 731, 281, 213, 197, 399]\n",
    "\n",
    "for i in range(len(file_names)):\n",
    "    # choosing always the same examples for testing to ensure the same results ....\n",
    "    if file_names[i] in test_files:\n",
    "        list_test_indices.append(i)\n",
    "        files_test.append(file_names[i])\n",
    "        \n",
    "        \n",
    "print(list_test_indices)"
   ]
  },
  {
   "cell_type": "code",
   "execution_count": 12,
   "metadata": {},
   "outputs": [
    {
     "data": {
      "text/plain": [
       "(85, 754)"
      ]
     },
     "execution_count": 12,
     "metadata": {},
     "output_type": "execute_result"
    }
   ],
   "source": [
    "X_train = np.delete(X, list_test_indices, 0)\n",
    "X_test = np.take(X, list_test_indices, 0)\n",
    "y_train = np.delete(y, list_test_indices)\n",
    "y_test = np.take(y, list_test_indices)\n",
    "\n",
    "X_train.shape"
   ]
  },
  {
   "cell_type": "code",
   "execution_count": null,
   "metadata": {},
   "outputs": [],
   "source": []
  },
  {
   "cell_type": "markdown",
   "metadata": {},
   "source": [
    "   "
   ]
  },
  {
   "cell_type": "markdown",
   "metadata": {},
   "source": [
    "We apply classification algorithms to predict some sites."
   ]
  },
  {
   "cell_type": "markdown",
   "metadata": {},
   "source": [
    "> ### 1.1. SVC"
   ]
  },
  {
   "cell_type": "code",
   "execution_count": 14,
   "metadata": {},
   "outputs": [
    {
     "data": {
      "text/plain": [
       "GridSearchCV(cv=10, error_score='raise',\n",
       "       estimator=SVC(C=1.0, cache_size=200, class_weight=None, coef0=0.0,\n",
       "  decision_function_shape='ovr', degree=3, gamma='auto', kernel='rbf',\n",
       "  max_iter=-1, probability=False, random_state=None, shrinking=True,\n",
       "  tol=0.001, verbose=False),\n",
       "       fit_params=None, iid=True, n_jobs=1,\n",
       "       param_grid={'degree': [3, 4], 'shrinking': [True, False], 'probability': [True, False]},\n",
       "       pre_dispatch='2*n_jobs', refit=True, return_train_score='warn',\n",
       "       scoring=None, verbose=0)"
      ]
     },
     "execution_count": 14,
     "metadata": {},
     "output_type": "execute_result"
    }
   ],
   "source": [
    "from sklearn.model_selection import GridSearchCV\n",
    "from sklearn.svm import SVC\n",
    "\n",
    "cv_grid_svc = GridSearchCV(SVC(), param_grid = {\n",
    "    'degree':[3,4],\n",
    "    'shrinking':[True,False],\n",
    "    'probability':[True,False]\n",
    "}, cv=10)\n",
    "\n",
    "cv_grid_svc.fit(X_train, y_train)"
   ]
  },
  {
   "cell_type": "code",
   "execution_count": 15,
   "metadata": {},
   "outputs": [
    {
     "name": "stdout",
     "output_type": "stream",
     "text": [
      "{'degree': 3, 'probability': True, 'shrinking': True}\n",
      "Accuracy of the best classifier after CV is 80.000%\n"
     ]
    }
   ],
   "source": [
    "from sklearn import metrics\n",
    "\n",
    "bestclassifier_svc=cv_grid_svc.best_estimator_\n",
    "\n",
    "y_predict_svc = bestclassifier_svc.predict(X_test)\n",
    "accuracy = metrics.accuracy_score(y_test,y_predict_svc)\n",
    "print(cv_grid_svc.best_params_)\n",
    "print('Accuracy of the best classifier after CV is %.3f%%' % (accuracy*100))"
   ]
  },
  {
   "cell_type": "markdown",
   "metadata": {},
   "source": [
    ">### 1.2. Random Forest"
   ]
  },
  {
   "cell_type": "code",
   "execution_count": 16,
   "metadata": {},
   "outputs": [
    {
     "name": "stderr",
     "output_type": "stream",
     "text": [
      "c:\\python-env2\\lib\\site-packages\\sklearn\\ensemble\\weight_boosting.py:29: DeprecationWarning: numpy.core.umath_tests is an internal NumPy module and should not be imported. It will be removed in a future NumPy release.\n",
      "  from numpy.core.umath_tests import inner1d\n"
     ]
    },
    {
     "data": {
      "text/plain": [
       "GridSearchCV(cv=10, error_score='raise',\n",
       "       estimator=RandomForestClassifier(bootstrap=True, class_weight=None, criterion='gini',\n",
       "            max_depth=None, max_features='auto', max_leaf_nodes=None,\n",
       "            min_impurity_decrease=0.0, min_impurity_split=None,\n",
       "            min_samples_leaf=1, min_samples_split=2,\n",
       "            min_weight_fraction_leaf=0.0, n_estimators=10, n_jobs=1,\n",
       "            oob_score=False, random_state=None, verbose=0,\n",
       "            warm_start=False),\n",
       "       fit_params=None, iid=True, n_jobs=1,\n",
       "       param_grid={'n_estimators': range(10, 100, 10), 'max_features': ['auto', 'sqrt', 'log2'], 'max_depth': [4, 5, 6, 7, 8], 'criterion': ['gini', 'entropy']},\n",
       "       pre_dispatch='2*n_jobs', refit=True, return_train_score='warn',\n",
       "       scoring=None, verbose=0)"
      ]
     },
     "execution_count": 16,
     "metadata": {},
     "output_type": "execute_result"
    }
   ],
   "source": [
    "from sklearn.model_selection import GridSearchCV\n",
    "from sklearn.neighbors import KNeighborsClassifier\n",
    "from sklearn.tree import DecisionTreeClassifier\n",
    "from sklearn.ensemble import RandomForestClassifier\n",
    "\n",
    "cv_grid_rf = GridSearchCV(estimator = RandomForestClassifier(), param_grid = {\n",
    "    'n_estimators': range(10, 100, 10),\n",
    "    'max_features': ['auto', 'sqrt', 'log2'],\n",
    "    'max_depth' : [4,5,6,7,8],\n",
    "    'criterion' :['gini', 'entropy']\n",
    "}, cv=10)\n",
    "\n",
    "cv_grid_rf.fit(X_train, y_train)"
   ]
  },
  {
   "cell_type": "code",
   "execution_count": 17,
   "metadata": {},
   "outputs": [
    {
     "name": "stdout",
     "output_type": "stream",
     "text": [
      "{'criterion': 'gini', 'max_depth': 4, 'max_features': 'log2', 'n_estimators': 80}\n",
      "Accuracy of the best classifier after CV is 66.667%\n"
     ]
    }
   ],
   "source": [
    "from sklearn import metrics\n",
    "\n",
    "bestclassifier_rf=cv_grid_rf.best_estimator_\n",
    "\n",
    "y_predict_rf = bestclassifier_rf.predict(X_test)\n",
    "accuracy = metrics.accuracy_score(y_test,y_predict_rf)\n",
    "print(cv_grid_rf.best_params_)\n",
    "print('Accuracy of the best classifier after CV is %.3f%%' % (accuracy*100))"
   ]
  },
  {
   "cell_type": "markdown",
   "metadata": {},
   "source": [
    ">### 1.3. Logistic Regression"
   ]
  },
  {
   "cell_type": "code",
   "execution_count": 18,
   "metadata": {},
   "outputs": [
    {
     "data": {
      "text/plain": [
       "GridSearchCV(cv=10, error_score='raise',\n",
       "       estimator=LogisticRegression(C=1.0, class_weight=None, dual=False, fit_intercept=True,\n",
       "          intercept_scaling=1, max_iter=100, multi_class='ovr', n_jobs=1,\n",
       "          penalty='l2', random_state=None, solver='liblinear', tol=0.0001,\n",
       "          verbose=0, warm_start=False),\n",
       "       fit_params=None, iid=True, n_jobs=1,\n",
       "       param_grid={'C': array([1.00000e+00, 2.78256e+00, 7.74264e+00, 2.15443e+01, 5.99484e+01,\n",
       "       1.66810e+02, 4.64159e+02, 1.29155e+03, 3.59381e+03, 1.00000e+04]), 'penalty': ['l1', 'l2']},\n",
       "       pre_dispatch='2*n_jobs', refit=True, return_train_score='warn',\n",
       "       scoring=None, verbose=0)"
      ]
     },
     "execution_count": 18,
     "metadata": {},
     "output_type": "execute_result"
    }
   ],
   "source": [
    "from sklearn.model_selection import GridSearchCV\n",
    "from sklearn.linear_model import LogisticRegression\n",
    "\n",
    "cv_grid_lr = GridSearchCV(estimator = LogisticRegression(), param_grid = {\n",
    "    'C': np.logspace(0, 4, 10),\n",
    "    'penalty': ['l1', 'l2'],\n",
    "}, cv=10)\n",
    "\n",
    "cv_grid_lr.fit(X_train, y_train)"
   ]
  },
  {
   "cell_type": "code",
   "execution_count": 19,
   "metadata": {},
   "outputs": [
    {
     "name": "stdout",
     "output_type": "stream",
     "text": [
      "{'C': 1.0, 'penalty': 'l2'}\n",
      "Accuracy of the best classifier after CV is 53.333%\n"
     ]
    }
   ],
   "source": [
    "from sklearn import metrics\n",
    "\n",
    "bestclassifier_lr=cv_grid_lr.best_estimator_\n",
    "\n",
    "y_predict_lr = bestclassifier_lr.predict(X_test)\n",
    "accuracy = metrics.accuracy_score(y_test,y_predict_lr)\n",
    "print(cv_grid_lr.best_params_)\n",
    "print('Accuracy of the best classifier after CV is %.3f%%' % (accuracy*100))"
   ]
  },
  {
   "cell_type": "markdown",
   "metadata": {},
   "source": [
    ">### 1.4. KNN"
   ]
  },
  {
   "cell_type": "code",
   "execution_count": 20,
   "metadata": {},
   "outputs": [
    {
     "data": {
      "text/plain": [
       "GridSearchCV(cv=10, error_score='raise',\n",
       "       estimator=KNeighborsClassifier(algorithm='auto', leaf_size=30, metric='minkowski',\n",
       "           metric_params=None, n_jobs=1, n_neighbors=5, p=2,\n",
       "           weights='uniform'),\n",
       "       fit_params=None, iid=True, n_jobs=1,\n",
       "       param_grid={'n_neighbors': [4, 5, 6, 7], 'leaf_size': [1, 3, 5], 'algorithm': ['auto', 'kd_tree']},\n",
       "       pre_dispatch='2*n_jobs', refit=True, return_train_score='warn',\n",
       "       scoring=None, verbose=0)"
      ]
     },
     "execution_count": 20,
     "metadata": {},
     "output_type": "execute_result"
    }
   ],
   "source": [
    "from sklearn.model_selection import GridSearchCV\n",
    "\n",
    "cv_grid_knn = GridSearchCV(estimator = KNeighborsClassifier(), param_grid = {\n",
    "    'n_neighbors':[4,5,6,7],\n",
    "    'leaf_size':[1,3,5],\n",
    "    'algorithm':['auto', 'kd_tree']\n",
    "}, cv=10)\n",
    "\n",
    "cv_grid_knn.fit(X_train, y_train)"
   ]
  },
  {
   "cell_type": "code",
   "execution_count": 21,
   "metadata": {},
   "outputs": [
    {
     "name": "stdout",
     "output_type": "stream",
     "text": [
      "{'algorithm': 'auto', 'leaf_size': 1, 'n_neighbors': 4}\n",
      "Accuracy of the best classifier after CV is 60.000%\n"
     ]
    }
   ],
   "source": [
    "from sklearn import metrics\n",
    "\n",
    "bestclassifier_knn=cv_grid_knn.best_estimator_\n",
    "\n",
    "y_predict_knn = bestclassifier_knn.predict(X_test)\n",
    "accuracy = metrics.accuracy_score(y_test,y_predict_knn)\n",
    "print(cv_grid_knn.best_params_)\n",
    "print('Accuracy of the best classifier after CV is %.3f%%' % (accuracy*100))"
   ]
  },
  {
   "cell_type": "markdown",
   "metadata": {},
   "source": [
    ">### 1.5. XGBOOST"
   ]
  },
  {
   "cell_type": "code",
   "execution_count": 13,
   "metadata": {},
   "outputs": [
    {
     "data": {
      "text/plain": [
       "GridSearchCV(cv=10, error_score='raise',\n",
       "       estimator=XGBClassifier(base_score=0.5, booster='gbtree', colsample_bylevel=1,\n",
       "       colsample_bynode=1, colsample_bytree=1, gamma=0, learning_rate=0.1,\n",
       "       max_delta_step=0, max_depth=3, min_child_weight=1, missing=None,\n",
       "       n_estimators=100, n_jobs=1, nthread=None,\n",
       "       objective='binary:logistic', random_state=0, reg_alpha=0,\n",
       "       reg_lambda=1, scale_pos_weight=1, seed=None, silent=None,\n",
       "       subsample=1, verbosity=1),\n",
       "       fit_params=None, iid=True, n_jobs=1,\n",
       "       param_grid={'max_depth': range(2, 10), 'n_estimators': range(10, 100, 10), 'learning_rate': [0.1, 0.01, 0.05]},\n",
       "       pre_dispatch='2*n_jobs', refit=True, return_train_score='warn',\n",
       "       scoring=None, verbose=0)"
      ]
     },
     "execution_count": 13,
     "metadata": {},
     "output_type": "execute_result"
    }
   ],
   "source": [
    "from sklearn.model_selection import GridSearchCV\n",
    "from xgboost import XGBClassifier\n",
    "import warnings \n",
    "warnings.filterwarnings('ignore')\n",
    "\n",
    "cv_grid_xb = GridSearchCV(estimator = XGBClassifier(), param_grid = {\n",
    "    'max_depth': range (2, 10, 1),\n",
    "    'n_estimators': range(10, 100, 10),\n",
    "    'learning_rate': [0.1, 0.01, 0.05]\n",
    "}, cv=10)\n",
    "\n",
    "cv_grid_xb.fit(X_train, y_train)\n"
   ]
  },
  {
   "cell_type": "code",
   "execution_count": 14,
   "metadata": {},
   "outputs": [
    {
     "name": "stdout",
     "output_type": "stream",
     "text": [
      "{'learning_rate': 0.01, 'max_depth': 2, 'n_estimators': 70}\n",
      "Accuracy of the best classifier after CV is 66.667%\n"
     ]
    }
   ],
   "source": [
    "from sklearn import metrics\n",
    "\n",
    "bestclassifier_xb=cv_grid_xb.best_estimator_\n",
    "\n",
    "y_predict_xb = bestclassifier_xb.predict(X_test)\n",
    "accuracy = metrics.accuracy_score(y_test,y_predict_xb)\n",
    "print(cv_grid_xb.best_params_)\n",
    "print('Accuracy of the best classifier after CV is %.3f%%' % (accuracy*100))"
   ]
  },
  {
   "cell_type": "markdown",
   "metadata": {},
   "source": [
    "  "
   ]
  },
  {
   "cell_type": "markdown",
   "metadata": {},
   "source": [
    "# 2.  Classification on the 28 features extracted"
   ]
  },
  {
   "cell_type": "markdown",
   "metadata": {},
   "source": [
    "We select specific features that will be extracted"
   ]
  },
  {
   "cell_type": "code",
   "execution_count": 15,
   "metadata": {},
   "outputs": [],
   "source": [
    "fc_parameters = {\n",
    "    \"abs_energy\": None,\n",
    "    'abs_energy': None,\n",
    "    'absolute_sum_of_changes': None,\n",
    "    'count_above_mean':None,\n",
    "    'count_below_mean':None,\n",
    "    'first_location_of_maximum':None,\n",
    "    'first_location_of_minimum':None,\n",
    "    'has_duplicate':None,\n",
    "    'has_duplicate_max':None,\n",
    "    'kurtosis':None,\n",
    "    'last_location_of_maximum':None,\n",
    "    'last_location_of_minimum':None,\n",
    "    'has_duplicate_min':None,\n",
    "    'longest_strike_above_mean':None,\n",
    "    'longest_strike_below_mean':None,\n",
    "    'maximum':None,\n",
    "    'mean_abs_change':None,\n",
    "    'minimum':None,\n",
    "    'number_crossing_m':[{\"m\": 0}],\n",
    "    'mean':None,\n",
    "    'median':None,\n",
    "    'mean_change':None,\n",
    "    'ratio_value_number_to_time_series_length':None,\n",
    "    'skewness':None,\n",
    "    'standard_deviation':None,\n",
    "    'sum_of_reoccurring_values':None,\n",
    "    'sum_values':None,\n",
    "    'variance':None,\n",
    "    'variance_larger_than_standard_deviation':None\n",
    "}"
   ]
  },
  {
   "cell_type": "code",
   "execution_count": 16,
   "metadata": {
    "scrolled": true
   },
   "outputs": [
    {
     "name": "stderr",
     "output_type": "stream",
     "text": [
      "Feature Extraction: 100%|██████████████████████████████████████████████████████████████| 25/25 [00:05<00:00,  4.20it/s]\n"
     ]
    },
    {
     "name": "stdout",
     "output_type": "stream",
     "text": [
      "Time to extract the features : 6.751388072967529 seconds.\n"
     ]
    }
   ],
   "source": [
    "from tsfresh import extract_features\n",
    "start = time.time()\n",
    "\n",
    "X_tsfresh = extract_features(dataframe, column_id='index', column_sort='time', default_fc_parameters=fc_parameters)\n",
    "\n",
    "print(\"Time to extract the features : \" + str(time.time() - start) + \" seconds.\")"
   ]
  },
  {
   "cell_type": "code",
   "execution_count": 17,
   "metadata": {},
   "outputs": [
    {
     "data": {
      "text/html": [
       "<div>\n",
       "<style>\n",
       "    .dataframe thead tr:only-child th {\n",
       "        text-align: right;\n",
       "    }\n",
       "\n",
       "    .dataframe thead th {\n",
       "        text-align: left;\n",
       "    }\n",
       "\n",
       "    .dataframe tbody tr th {\n",
       "        vertical-align: top;\n",
       "    }\n",
       "</style>\n",
       "<table border=\"1\" class=\"dataframe\">\n",
       "  <thead>\n",
       "    <tr style=\"text-align: right;\">\n",
       "      <th>variable</th>\n",
       "      <th>value__abs_energy</th>\n",
       "      <th>value__absolute_sum_of_changes</th>\n",
       "      <th>value__count_above_mean</th>\n",
       "      <th>value__count_below_mean</th>\n",
       "      <th>value__first_location_of_maximum</th>\n",
       "      <th>value__first_location_of_minimum</th>\n",
       "      <th>value__has_duplicate</th>\n",
       "      <th>value__has_duplicate_max</th>\n",
       "      <th>value__has_duplicate_min</th>\n",
       "      <th>value__kurtosis</th>\n",
       "      <th>...</th>\n",
       "      <th>value__median</th>\n",
       "      <th>value__minimum</th>\n",
       "      <th>value__number_crossing_m__m_0</th>\n",
       "      <th>value__ratio_value_number_to_time_series_length</th>\n",
       "      <th>value__skewness</th>\n",
       "      <th>value__standard_deviation</th>\n",
       "      <th>value__sum_of_reoccurring_values</th>\n",
       "      <th>value__sum_values</th>\n",
       "      <th>value__variance</th>\n",
       "      <th>value__variance_larger_than_standard_deviation</th>\n",
       "    </tr>\n",
       "    <tr>\n",
       "      <th>id</th>\n",
       "      <th></th>\n",
       "      <th></th>\n",
       "      <th></th>\n",
       "      <th></th>\n",
       "      <th></th>\n",
       "      <th></th>\n",
       "      <th></th>\n",
       "      <th></th>\n",
       "      <th></th>\n",
       "      <th></th>\n",
       "      <th></th>\n",
       "      <th></th>\n",
       "      <th></th>\n",
       "      <th></th>\n",
       "      <th></th>\n",
       "      <th></th>\n",
       "      <th></th>\n",
       "      <th></th>\n",
       "      <th></th>\n",
       "      <th></th>\n",
       "      <th></th>\n",
       "    </tr>\n",
       "  </thead>\n",
       "  <tbody>\n",
       "    <tr>\n",
       "      <th>95</th>\n",
       "      <td>1.692200e+08</td>\n",
       "      <td>19505.5733</td>\n",
       "      <td>2028.0</td>\n",
       "      <td>972.0</td>\n",
       "      <td>0.184000</td>\n",
       "      <td>0.883333</td>\n",
       "      <td>1.0</td>\n",
       "      <td>1.0</td>\n",
       "      <td>1.0</td>\n",
       "      <td>2.589399</td>\n",
       "      <td>...</td>\n",
       "      <td>245.6430</td>\n",
       "      <td>122.8215</td>\n",
       "      <td>0.0</td>\n",
       "      <td>0.006000</td>\n",
       "      <td>-1.538740</td>\n",
       "      <td>22.106853</td>\n",
       "      <td>3630.9104</td>\n",
       "      <td>709409.2583</td>\n",
       "      <td>488.712955</td>\n",
       "      <td>1.0</td>\n",
       "    </tr>\n",
       "    <tr>\n",
       "      <th>96</th>\n",
       "      <td>2.990861e+05</td>\n",
       "      <td>1546.8603</td>\n",
       "      <td>1716.0</td>\n",
       "      <td>1284.0</td>\n",
       "      <td>0.249667</td>\n",
       "      <td>0.057000</td>\n",
       "      <td>1.0</td>\n",
       "      <td>1.0</td>\n",
       "      <td>1.0</td>\n",
       "      <td>-1.441169</td>\n",
       "      <td>...</td>\n",
       "      <td>9.9965</td>\n",
       "      <td>1.2982</td>\n",
       "      <td>0.0</td>\n",
       "      <td>0.045667</td>\n",
       "      <td>-0.086381</td>\n",
       "      <td>5.129113</td>\n",
       "      <td>1345.6332</td>\n",
       "      <td>25699.9653</td>\n",
       "      <td>26.307800</td>\n",
       "      <td>1.0</td>\n",
       "    </tr>\n",
       "    <tr>\n",
       "      <th>97</th>\n",
       "      <td>2.087297e+05</td>\n",
       "      <td>2341.2617</td>\n",
       "      <td>920.0</td>\n",
       "      <td>2080.0</td>\n",
       "      <td>0.258000</td>\n",
       "      <td>0.654333</td>\n",
       "      <td>1.0</td>\n",
       "      <td>0.0</td>\n",
       "      <td>1.0</td>\n",
       "      <td>0.647844</td>\n",
       "      <td>...</td>\n",
       "      <td>6.0434</td>\n",
       "      <td>2.1976</td>\n",
       "      <td>0.0</td>\n",
       "      <td>0.023333</td>\n",
       "      <td>1.222948</td>\n",
       "      <td>4.069525</td>\n",
       "      <td>754.5973</td>\n",
       "      <td>21843.5320</td>\n",
       "      <td>16.561033</td>\n",
       "      <td>1.0</td>\n",
       "    </tr>\n",
       "    <tr>\n",
       "      <th>98</th>\n",
       "      <td>2.707565e+07</td>\n",
       "      <td>12878.5865</td>\n",
       "      <td>1479.0</td>\n",
       "      <td>1521.0</td>\n",
       "      <td>0.439667</td>\n",
       "      <td>0.001667</td>\n",
       "      <td>1.0</td>\n",
       "      <td>1.0</td>\n",
       "      <td>1.0</td>\n",
       "      <td>-1.724007</td>\n",
       "      <td>...</td>\n",
       "      <td>66.5090</td>\n",
       "      <td>12.0925</td>\n",
       "      <td>0.0</td>\n",
       "      <td>0.009000</td>\n",
       "      <td>0.240556</td>\n",
       "      <td>57.352744</td>\n",
       "      <td>2448.7399</td>\n",
       "      <td>227206.7849</td>\n",
       "      <td>3289.337288</td>\n",
       "      <td>1.0</td>\n",
       "    </tr>\n",
       "    <tr>\n",
       "      <th>99</th>\n",
       "      <td>3.245633e+07</td>\n",
       "      <td>5499.3625</td>\n",
       "      <td>1043.0</td>\n",
       "      <td>1957.0</td>\n",
       "      <td>0.341333</td>\n",
       "      <td>0.101000</td>\n",
       "      <td>1.0</td>\n",
       "      <td>1.0</td>\n",
       "      <td>0.0</td>\n",
       "      <td>-1.290202</td>\n",
       "      <td>...</td>\n",
       "      <td>61.8742</td>\n",
       "      <td>39.5307</td>\n",
       "      <td>0.0</td>\n",
       "      <td>0.069000</td>\n",
       "      <td>0.735249</td>\n",
       "      <td>47.505853</td>\n",
       "      <td>21101.9585</td>\n",
       "      <td>277592.7504</td>\n",
       "      <td>2256.806057</td>\n",
       "      <td>1.0</td>\n",
       "    </tr>\n",
       "  </tbody>\n",
       "</table>\n",
       "<p>5 rows × 28 columns</p>\n",
       "</div>"
      ],
      "text/plain": [
       "variable  value__abs_energy  value__absolute_sum_of_changes  \\\n",
       "id                                                            \n",
       "95             1.692200e+08                      19505.5733   \n",
       "96             2.990861e+05                       1546.8603   \n",
       "97             2.087297e+05                       2341.2617   \n",
       "98             2.707565e+07                      12878.5865   \n",
       "99             3.245633e+07                       5499.3625   \n",
       "\n",
       "variable  value__count_above_mean  value__count_below_mean  \\\n",
       "id                                                           \n",
       "95                         2028.0                    972.0   \n",
       "96                         1716.0                   1284.0   \n",
       "97                          920.0                   2080.0   \n",
       "98                         1479.0                   1521.0   \n",
       "99                         1043.0                   1957.0   \n",
       "\n",
       "variable  value__first_location_of_maximum  value__first_location_of_minimum  \\\n",
       "id                                                                             \n",
       "95                                0.184000                          0.883333   \n",
       "96                                0.249667                          0.057000   \n",
       "97                                0.258000                          0.654333   \n",
       "98                                0.439667                          0.001667   \n",
       "99                                0.341333                          0.101000   \n",
       "\n",
       "variable  value__has_duplicate  value__has_duplicate_max  \\\n",
       "id                                                         \n",
       "95                         1.0                       1.0   \n",
       "96                         1.0                       1.0   \n",
       "97                         1.0                       0.0   \n",
       "98                         1.0                       1.0   \n",
       "99                         1.0                       1.0   \n",
       "\n",
       "variable  value__has_duplicate_min  value__kurtosis  \\\n",
       "id                                                    \n",
       "95                             1.0         2.589399   \n",
       "96                             1.0        -1.441169   \n",
       "97                             1.0         0.647844   \n",
       "98                             1.0        -1.724007   \n",
       "99                             0.0        -1.290202   \n",
       "\n",
       "variable                       ...                        value__median  \\\n",
       "id                             ...                                        \n",
       "95                             ...                             245.6430   \n",
       "96                             ...                               9.9965   \n",
       "97                             ...                               6.0434   \n",
       "98                             ...                              66.5090   \n",
       "99                             ...                              61.8742   \n",
       "\n",
       "variable  value__minimum  value__number_crossing_m__m_0  \\\n",
       "id                                                        \n",
       "95              122.8215                            0.0   \n",
       "96                1.2982                            0.0   \n",
       "97                2.1976                            0.0   \n",
       "98               12.0925                            0.0   \n",
       "99               39.5307                            0.0   \n",
       "\n",
       "variable  value__ratio_value_number_to_time_series_length  value__skewness  \\\n",
       "id                                                                           \n",
       "95                                               0.006000        -1.538740   \n",
       "96                                               0.045667        -0.086381   \n",
       "97                                               0.023333         1.222948   \n",
       "98                                               0.009000         0.240556   \n",
       "99                                               0.069000         0.735249   \n",
       "\n",
       "variable  value__standard_deviation  value__sum_of_reoccurring_values  \\\n",
       "id                                                                      \n",
       "95                        22.106853                         3630.9104   \n",
       "96                         5.129113                         1345.6332   \n",
       "97                         4.069525                          754.5973   \n",
       "98                        57.352744                         2448.7399   \n",
       "99                        47.505853                        21101.9585   \n",
       "\n",
       "variable  value__sum_values  value__variance  \\\n",
       "id                                             \n",
       "95              709409.2583       488.712955   \n",
       "96               25699.9653        26.307800   \n",
       "97               21843.5320        16.561033   \n",
       "98              227206.7849      3289.337288   \n",
       "99              277592.7504      2256.806057   \n",
       "\n",
       "variable  value__variance_larger_than_standard_deviation  \n",
       "id                                                        \n",
       "95                                                   1.0  \n",
       "96                                                   1.0  \n",
       "97                                                   1.0  \n",
       "98                                                   1.0  \n",
       "99                                                   1.0  \n",
       "\n",
       "[5 rows x 28 columns]"
      ]
     },
     "execution_count": 17,
     "metadata": {},
     "output_type": "execute_result"
    }
   ],
   "source": [
    "X_tsfresh.tail()"
   ]
  },
  {
   "cell_type": "code",
   "execution_count": 18,
   "metadata": {},
   "outputs": [],
   "source": [
    "y = all_sites[\"SUB_INDUSTRY\"].values\n",
    "X = X_tsfresh"
   ]
  },
  {
   "cell_type": "code",
   "execution_count": 19,
   "metadata": {},
   "outputs": [],
   "source": [
    "X = scale(X)"
   ]
  },
  {
   "cell_type": "markdown",
   "metadata": {},
   "source": [
    "## Split the dataset into train and test subsets"
   ]
  },
  {
   "cell_type": "code",
   "execution_count": 20,
   "metadata": {},
   "outputs": [],
   "source": [
    "import sklearn\n",
    "file_names = []\n",
    "# This is needed to check the accuracy of the predictive modelling step.\n",
    "for name in all_sites[\"SITE_ID\"].values:\n",
    "    file_names.append(name)\n",
    "    \n",
    "for i in range(15):\n",
    "    X, y, file_names = sklearn.utils.shuffle(X, y, file_names, random_state=0)"
   ]
  },
  {
   "cell_type": "code",
   "execution_count": 21,
   "metadata": {},
   "outputs": [
    {
     "name": "stdout",
     "output_type": "stream",
     "text": [
      "[0, 10, 18, 22, 30, 33, 39, 44, 45, 53, 70, 73, 80, 83, 90]\n"
     ]
    }
   ],
   "source": [
    "files_test = []\n",
    "list_test_indices = []\n",
    "test_files = [92, 45, 761, 10, 766, 400, 673, 49, 144, 496, 731, 281, 213, 197, 399]\n",
    "\n",
    "for i in range(len(file_names)):\n",
    "    # choosing always the same examples for testing to ensure the same results ....\n",
    "    if file_names[i] in test_files:\n",
    "        list_test_indices.append(i)\n",
    "        files_test.append(file_names[i])\n",
    "        \n",
    "        \n",
    "print(list_test_indices)"
   ]
  },
  {
   "cell_type": "code",
   "execution_count": 22,
   "metadata": {},
   "outputs": [
    {
     "data": {
      "text/plain": [
       "(85, 28)"
      ]
     },
     "execution_count": 22,
     "metadata": {},
     "output_type": "execute_result"
    }
   ],
   "source": [
    "X_train = np.delete(X, list_test_indices, 0)\n",
    "X_test = np.take(X, list_test_indices, 0)\n",
    "y_train = np.delete(y, list_test_indices)\n",
    "y_test = np.take(y, list_test_indices)\n",
    "\n",
    "X_train.shape"
   ]
  },
  {
   "cell_type": "markdown",
   "metadata": {},
   "source": [
    "  "
   ]
  },
  {
   "cell_type": "markdown",
   "metadata": {},
   "source": [
    ">### 2.1. SVC"
   ]
  },
  {
   "cell_type": "code",
   "execution_count": 24,
   "metadata": {},
   "outputs": [
    {
     "data": {
      "text/plain": [
       "GridSearchCV(cv=None, error_score='raise',\n",
       "       estimator=SVC(C=1.0, cache_size=200, class_weight=None, coef0=0.0,\n",
       "  decision_function_shape='ovr', degree=3, gamma='auto', kernel='rbf',\n",
       "  max_iter=-1, probability=False, random_state=None, shrinking=True,\n",
       "  tol=0.001, verbose=False),\n",
       "       fit_params=None, iid=True, n_jobs=1,\n",
       "       param_grid={'degree': [3, 4], 'shrinking': [True, False], 'probability': [True, False]},\n",
       "       pre_dispatch='2*n_jobs', refit=True, return_train_score='warn',\n",
       "       scoring=None, verbose=0)"
      ]
     },
     "execution_count": 24,
     "metadata": {},
     "output_type": "execute_result"
    }
   ],
   "source": [
    "from sklearn.model_selection import GridSearchCV\n",
    "from sklearn.svm import SVC\n",
    "\n",
    "cv_grid_svc = GridSearchCV(SVC(), param_grid = {\n",
    "    'degree':[3,4],\n",
    "    'shrinking':[True,False],\n",
    "    'probability':[True,False]\n",
    "})\n",
    "\n",
    "cv_grid_svc.fit(X_train, y_train)"
   ]
  },
  {
   "cell_type": "code",
   "execution_count": 25,
   "metadata": {},
   "outputs": [
    {
     "name": "stdout",
     "output_type": "stream",
     "text": [
      "{'degree': 3, 'probability': True, 'shrinking': True}\n",
      "Accuracy of the best classifier after CV is 80.000%\n"
     ]
    }
   ],
   "source": [
    "from sklearn import metrics\n",
    "\n",
    "bestclassifier_svc=cv_grid_svc.best_estimator_\n",
    "\n",
    "y_predict_svc = bestclassifier_svc.predict(X_test)\n",
    "accuracy = metrics.accuracy_score(y_test,y_predict_svc)\n",
    "print(cv_grid_svc.best_params_)\n",
    "print('Accuracy of the best classifier after CV is %.3f%%' % (accuracy*100))"
   ]
  },
  {
   "cell_type": "markdown",
   "metadata": {},
   "source": [
    ">### 2.2. Random Forest"
   ]
  },
  {
   "cell_type": "code",
   "execution_count": 27,
   "metadata": {},
   "outputs": [
    {
     "data": {
      "text/plain": [
       "GridSearchCV(cv=10, error_score='raise',\n",
       "       estimator=RandomForestClassifier(bootstrap=True, class_weight=None, criterion='gini',\n",
       "            max_depth=None, max_features='auto', max_leaf_nodes=None,\n",
       "            min_impurity_decrease=0.0, min_impurity_split=None,\n",
       "            min_samples_leaf=1, min_samples_split=2,\n",
       "            min_weight_fraction_leaf=0.0, n_estimators=10, n_jobs=1,\n",
       "            oob_score=False, random_state=None, verbose=0,\n",
       "            warm_start=False),\n",
       "       fit_params=None, iid=True, n_jobs=1,\n",
       "       param_grid={'n_estimators': range(10, 100, 10), 'max_features': ['auto', 'sqrt', 'log2'], 'max_depth': [4, 5, 6, 7, 8], 'criterion': ['gini', 'entropy']},\n",
       "       pre_dispatch='2*n_jobs', refit=True, return_train_score='warn',\n",
       "       scoring=None, verbose=0)"
      ]
     },
     "execution_count": 27,
     "metadata": {},
     "output_type": "execute_result"
    }
   ],
   "source": [
    "from sklearn.model_selection import GridSearchCV\n",
    "from sklearn.ensemble import RandomForestClassifier\n",
    "\n",
    "cv_grid_rf = GridSearchCV(estimator = RandomForestClassifier(), param_grid = {\n",
    "    'n_estimators': range(10, 100, 10),\n",
    "    'max_features': ['auto', 'sqrt', 'log2'],\n",
    "    'max_depth' : [4,5,6,7,8],\n",
    "    'criterion' :['gini', 'entropy']\n",
    "}, cv=10)\n",
    "\n",
    "cv_grid_rf.fit(X_train, y_train)"
   ]
  },
  {
   "cell_type": "code",
   "execution_count": 28,
   "metadata": {},
   "outputs": [
    {
     "name": "stdout",
     "output_type": "stream",
     "text": [
      "{'criterion': 'gini', 'max_depth': 4, 'max_features': 'auto', 'n_estimators': 90}\n",
      "Accuracy of the best classifier after CV is 66.667%\n"
     ]
    }
   ],
   "source": [
    "from sklearn import metrics\n",
    "\n",
    "bestclassifier_rf=cv_grid_rf.best_estimator_\n",
    "\n",
    "y_predict_rf = bestclassifier_rf.predict(X_test)\n",
    "accuracy = metrics.accuracy_score(y_test,y_predict_rf)\n",
    "print(cv_grid_rf.best_params_)\n",
    "print('Accuracy of the best classifier after CV is %.3f%%' % (accuracy*100))"
   ]
  },
  {
   "cell_type": "markdown",
   "metadata": {},
   "source": [
    ">### 2.3. Logistic Regression"
   ]
  },
  {
   "cell_type": "code",
   "execution_count": 29,
   "metadata": {},
   "outputs": [
    {
     "data": {
      "text/plain": [
       "GridSearchCV(cv=10, error_score='raise',\n",
       "       estimator=LogisticRegression(C=1.0, class_weight=None, dual=False, fit_intercept=True,\n",
       "          intercept_scaling=1, max_iter=100, multi_class='ovr', n_jobs=1,\n",
       "          penalty='l2', random_state=None, solver='liblinear', tol=0.0001,\n",
       "          verbose=0, warm_start=False),\n",
       "       fit_params=None, iid=True, n_jobs=1,\n",
       "       param_grid={'C': array([1.00000e+00, 2.78256e+00, 7.74264e+00, 2.15443e+01, 5.99484e+01,\n",
       "       1.66810e+02, 4.64159e+02, 1.29155e+03, 3.59381e+03, 1.00000e+04]), 'penalty': ['l1', 'l2']},\n",
       "       pre_dispatch='2*n_jobs', refit=True, return_train_score='warn',\n",
       "       scoring=None, verbose=0)"
      ]
     },
     "execution_count": 29,
     "metadata": {},
     "output_type": "execute_result"
    }
   ],
   "source": [
    "from sklearn.model_selection import GridSearchCV\n",
    "from sklearn.linear_model import LogisticRegression\n",
    "\n",
    "cv_grid_lr = GridSearchCV(estimator = LogisticRegression(), param_grid = {\n",
    "    'C': np.logspace(0, 4, 10),\n",
    "    'penalty': ['l1', 'l2'],\n",
    "}, cv=10)\n",
    "\n",
    "cv_grid_lr.fit(X_train, y_train)"
   ]
  },
  {
   "cell_type": "code",
   "execution_count": 30,
   "metadata": {},
   "outputs": [
    {
     "name": "stdout",
     "output_type": "stream",
     "text": [
      "{'C': 2.7825594022071245, 'penalty': 'l1'}\n",
      "Accuracy of the best classifier after CV is 66.667%\n"
     ]
    }
   ],
   "source": [
    "from sklearn import metrics\n",
    "\n",
    "bestclassifier_lr=cv_grid_lr.best_estimator_\n",
    "\n",
    "y_predict_lr = bestclassifier_lr.predict(X_test)\n",
    "accuracy = metrics.accuracy_score(y_test,y_predict_lr)\n",
    "print(cv_grid_lr.best_params_)\n",
    "print('Accuracy of the best classifier after CV is %.3f%%' % (accuracy*100))"
   ]
  },
  {
   "cell_type": "markdown",
   "metadata": {},
   "source": [
    ">### 2.4. KNN"
   ]
  },
  {
   "cell_type": "code",
   "execution_count": 32,
   "metadata": {
    "scrolled": true
   },
   "outputs": [
    {
     "data": {
      "text/plain": [
       "GridSearchCV(cv=10, error_score='raise',\n",
       "       estimator=KNeighborsClassifier(algorithm='auto', leaf_size=30, metric='minkowski',\n",
       "           metric_params=None, n_jobs=1, n_neighbors=5, p=2,\n",
       "           weights='uniform'),\n",
       "       fit_params=None, iid=True, n_jobs=1,\n",
       "       param_grid={'n_neighbors': [4, 5, 6, 7], 'leaf_size': [1, 3, 5], 'algorithm': ['auto', 'kd_tree']},\n",
       "       pre_dispatch='2*n_jobs', refit=True, return_train_score='warn',\n",
       "       scoring=None, verbose=0)"
      ]
     },
     "execution_count": 32,
     "metadata": {},
     "output_type": "execute_result"
    }
   ],
   "source": [
    "from sklearn.model_selection import GridSearchCV\n",
    "from sklearn.neighbors import KNeighborsClassifier\n",
    "\n",
    "cv_grid_knn = GridSearchCV(estimator = KNeighborsClassifier(), param_grid = {\n",
    "    'n_neighbors':[4,5,6,7],\n",
    "    'leaf_size':[1,3,5],\n",
    "    'algorithm':['auto', 'kd_tree']\n",
    "}, cv=10)\n",
    "\n",
    "cv_grid_knn.fit(X_train, y_train)"
   ]
  },
  {
   "cell_type": "code",
   "execution_count": 33,
   "metadata": {},
   "outputs": [
    {
     "name": "stdout",
     "output_type": "stream",
     "text": [
      "{'algorithm': 'auto', 'leaf_size': 1, 'n_neighbors': 6}\n",
      "Accuracy of the best classifier after CV is 60.000%\n"
     ]
    }
   ],
   "source": [
    "from sklearn import metrics\n",
    "\n",
    "bestclassifier_knn=cv_grid_knn.best_estimator_\n",
    "\n",
    "y_predict_knn = bestclassifier_knn.predict(X_test)\n",
    "accuracy = metrics.accuracy_score(y_test,y_predict_knn)\n",
    "print(cv_grid_knn.best_params_)\n",
    "print('Accuracy of the best classifier after CV is %.3f%%' % (accuracy*100))"
   ]
  },
  {
   "cell_type": "markdown",
   "metadata": {},
   "source": [
    ">### 2.5. XGBOOST"
   ]
  },
  {
   "cell_type": "code",
   "execution_count": 34,
   "metadata": {},
   "outputs": [
    {
     "data": {
      "text/plain": [
       "GridSearchCV(cv=10, error_score='raise',\n",
       "       estimator=XGBClassifier(base_score=0.5, booster='gbtree', colsample_bylevel=1,\n",
       "       colsample_bynode=1, colsample_bytree=1, gamma=0, learning_rate=0.1,\n",
       "       max_delta_step=0, max_depth=3, min_child_weight=1, missing=None,\n",
       "       n_estimators=100, n_jobs=1, nthread=None,\n",
       "       objective='binary:logistic', random_state=0, reg_alpha=0,\n",
       "       reg_lambda=1, scale_pos_weight=1, seed=None, silent=None,\n",
       "       subsample=1, verbosity=1),\n",
       "       fit_params=None, iid=True, n_jobs=1,\n",
       "       param_grid={'max_depth': range(2, 10), 'n_estimators': range(10, 100, 10), 'learning_rate': [0.1, 0.01, 0.05]},\n",
       "       pre_dispatch='2*n_jobs', refit=True, return_train_score='warn',\n",
       "       scoring=None, verbose=0)"
      ]
     },
     "execution_count": 34,
     "metadata": {},
     "output_type": "execute_result"
    }
   ],
   "source": [
    "from sklearn.model_selection import GridSearchCV\n",
    "from xgboost import XGBClassifier\n",
    "\n",
    "cv_grid_xb = GridSearchCV(estimator = XGBClassifier(), param_grid = {\n",
    "    'max_depth': range (2, 10, 1),\n",
    "    'n_estimators': range(10, 100, 10),\n",
    "    'learning_rate': [0.1, 0.01, 0.05]\n",
    "}, cv=10)\n",
    "\n",
    "cv_grid_xb.fit(X_train, y_train)\n"
   ]
  },
  {
   "cell_type": "code",
   "execution_count": 35,
   "metadata": {},
   "outputs": [
    {
     "name": "stdout",
     "output_type": "stream",
     "text": [
      "{'learning_rate': 0.05, 'max_depth': 2, 'n_estimators': 50}\n",
      "Accuracy of the best classifier after CV is 80.000%\n"
     ]
    }
   ],
   "source": [
    "from sklearn import metrics\n",
    "\n",
    "bestclassifier_xb=cv_grid_xb.best_estimator_\n",
    "\n",
    "y_predict_xb = bestclassifier_xb.predict(X_test)\n",
    "accuracy = metrics.accuracy_score(y_test,y_predict_xb)\n",
    "print(cv_grid_xb.best_params_)\n",
    "print('Accuracy of the best classifier after CV is %.3f%%' % (accuracy*100))"
   ]
  },
  {
   "cell_type": "markdown",
   "metadata": {},
   "source": [
    " "
   ]
  },
  {
   "cell_type": "markdown",
   "metadata": {},
   "source": [
    " "
   ]
  },
  {
   "cell_type": "markdown",
   "metadata": {},
   "source": [
    "# 3. Classification on the relevant features extracted"
   ]
  },
  {
   "cell_type": "code",
   "execution_count": 5,
   "metadata": {},
   "outputs": [],
   "source": [
    "X = pd.read_csv(\"754_features.csv\")"
   ]
  },
  {
   "cell_type": "code",
   "execution_count": 6,
   "metadata": {},
   "outputs": [],
   "source": [
    "X['value__friedrich_coefficients__m_3__r_30__coeff_0'].fillna((X['value__friedrich_coefficients__m_3__r_30__coeff_0'].mean()), inplace=True)\n",
    "X['value__friedrich_coefficients__m_3__r_30__coeff_1'].fillna((X['value__friedrich_coefficients__m_3__r_30__coeff_1'].mean()), inplace=True)\n",
    "X['value__friedrich_coefficients__m_3__r_30__coeff_2'].fillna((X['value__friedrich_coefficients__m_3__r_30__coeff_2'].mean()), inplace=True)\n",
    "X['value__friedrich_coefficients__m_3__r_30__coeff_3'].fillna((X['value__friedrich_coefficients__m_3__r_30__coeff_3'].mean()), inplace=True)\n",
    "X['value__max_langevin_fixed_point__m_3__r_30'].fillna((X['value__max_langevin_fixed_point__m_3__r_30'].mean()), inplace=True)"
   ]
  },
  {
   "cell_type": "code",
   "execution_count": 7,
   "metadata": {},
   "outputs": [],
   "source": [
    "X_dataframe=pd.DataFrame(X)"
   ]
  },
  {
   "cell_type": "markdown",
   "metadata": {},
   "source": [
    "We use _select_features_ function to select relevant features among all features extracted for classification task"
   ]
  },
  {
   "cell_type": "code",
   "execution_count": 10,
   "metadata": {
    "scrolled": false
   },
   "outputs": [
    {
     "name": "stderr",
     "output_type": "stream",
     "text": [
      "WARNING:tsfresh.feature_selection.relevance:Infered classification as machine learning task\n"
     ]
    },
    {
     "data": {
      "text/html": [
       "<div>\n",
       "<style>\n",
       "    .dataframe thead tr:only-child th {\n",
       "        text-align: right;\n",
       "    }\n",
       "\n",
       "    .dataframe thead th {\n",
       "        text-align: left;\n",
       "    }\n",
       "\n",
       "    .dataframe tbody tr th {\n",
       "        vertical-align: top;\n",
       "    }\n",
       "</style>\n",
       "<table border=\"1\" class=\"dataframe\">\n",
       "  <thead>\n",
       "    <tr style=\"text-align: right;\">\n",
       "      <th></th>\n",
       "      <th>id</th>\n",
       "      <th>value__fft_coefficient__coeff_66__attr_\"real\"</th>\n",
       "      <th>value__fft_coefficient__coeff_58__attr_\"imag\"</th>\n",
       "      <th>value__fft_coefficient__coeff_20__attr_\"abs\"</th>\n",
       "      <th>value__fft_coefficient__coeff_66__attr_\"abs\"</th>\n",
       "      <th>value__fft_coefficient__coeff_35__attr_\"imag\"</th>\n",
       "      <th>value__fft_coefficient__coeff_62__attr_\"imag\"</th>\n",
       "      <th>value__fft_coefficient__coeff_67__attr_\"abs\"</th>\n",
       "      <th>value__fft_coefficient__coeff_98__attr_\"abs\"</th>\n",
       "      <th>value__fft_coefficient__coeff_10__attr_\"abs\"</th>\n",
       "      <th>...</th>\n",
       "      <th>value__index_mass_quantile__q_0.6</th>\n",
       "      <th>value__energy_ratio_by_chunks__num_segments_10__segment_focus_5</th>\n",
       "      <th>value__fft_coefficient__coeff_52__attr_\"imag\"</th>\n",
       "      <th>value__symmetry_looking__r_0.1</th>\n",
       "      <th>value__count_below_mean</th>\n",
       "      <th>value__count_above_mean</th>\n",
       "      <th>value__fft_coefficient__coeff_93__attr_\"imag\"</th>\n",
       "      <th>value__fft_coefficient__coeff_16__attr_\"imag\"</th>\n",
       "      <th>value__number_cwt_peaks__n_1</th>\n",
       "      <th>value__fft_coefficient__coeff_16__attr_\"angle\"</th>\n",
       "    </tr>\n",
       "  </thead>\n",
       "  <tbody>\n",
       "    <tr>\n",
       "      <th>0</th>\n",
       "      <td>0</td>\n",
       "      <td>222.509129</td>\n",
       "      <td>227.392908</td>\n",
       "      <td>2061.138483</td>\n",
       "      <td>674.378729</td>\n",
       "      <td>81.219038</td>\n",
       "      <td>42.358167</td>\n",
       "      <td>998.488856</td>\n",
       "      <td>527.260712</td>\n",
       "      <td>10752.598658</td>\n",
       "      <td>...</td>\n",
       "      <td>0.598667</td>\n",
       "      <td>0.092192</td>\n",
       "      <td>-795.462125</td>\n",
       "      <td>1.0</td>\n",
       "      <td>1517.0</td>\n",
       "      <td>1483.0</td>\n",
       "      <td>-371.665563</td>\n",
       "      <td>-1028.189683</td>\n",
       "      <td>248.0</td>\n",
       "      <td>-91.230499</td>\n",
       "    </tr>\n",
       "    <tr>\n",
       "      <th>1</th>\n",
       "      <td>1</td>\n",
       "      <td>1396.576617</td>\n",
       "      <td>922.347886</td>\n",
       "      <td>8503.897383</td>\n",
       "      <td>1457.846808</td>\n",
       "      <td>1724.899392</td>\n",
       "      <td>2100.598948</td>\n",
       "      <td>1948.672509</td>\n",
       "      <td>1414.768941</td>\n",
       "      <td>18120.494049</td>\n",
       "      <td>...</td>\n",
       "      <td>0.566000</td>\n",
       "      <td>0.117585</td>\n",
       "      <td>-762.417230</td>\n",
       "      <td>1.0</td>\n",
       "      <td>1520.0</td>\n",
       "      <td>1480.0</td>\n",
       "      <td>-1641.395094</td>\n",
       "      <td>8124.169478</td>\n",
       "      <td>241.0</td>\n",
       "      <td>72.279473</td>\n",
       "    </tr>\n",
       "    <tr>\n",
       "      <th>2</th>\n",
       "      <td>2</td>\n",
       "      <td>-34.819392</td>\n",
       "      <td>-88.152898</td>\n",
       "      <td>507.033012</td>\n",
       "      <td>108.324792</td>\n",
       "      <td>73.820233</td>\n",
       "      <td>49.822441</td>\n",
       "      <td>102.634403</td>\n",
       "      <td>169.103653</td>\n",
       "      <td>10394.141215</td>\n",
       "      <td>...</td>\n",
       "      <td>0.567333</td>\n",
       "      <td>0.120544</td>\n",
       "      <td>276.448999</td>\n",
       "      <td>0.0</td>\n",
       "      <td>1877.0</td>\n",
       "      <td>1123.0</td>\n",
       "      <td>62.417951</td>\n",
       "      <td>299.522734</td>\n",
       "      <td>248.0</td>\n",
       "      <td>114.303808</td>\n",
       "    </tr>\n",
       "    <tr>\n",
       "      <th>3</th>\n",
       "      <td>3</td>\n",
       "      <td>2689.561936</td>\n",
       "      <td>4080.327296</td>\n",
       "      <td>9807.569078</td>\n",
       "      <td>2852.117154</td>\n",
       "      <td>6089.347629</td>\n",
       "      <td>2261.647595</td>\n",
       "      <td>851.084350</td>\n",
       "      <td>1765.349150</td>\n",
       "      <td>34391.793717</td>\n",
       "      <td>...</td>\n",
       "      <td>0.620667</td>\n",
       "      <td>0.127519</td>\n",
       "      <td>4855.573010</td>\n",
       "      <td>1.0</td>\n",
       "      <td>1162.0</td>\n",
       "      <td>1838.0</td>\n",
       "      <td>1075.619074</td>\n",
       "      <td>7.273246</td>\n",
       "      <td>246.0</td>\n",
       "      <td>0.160733</td>\n",
       "    </tr>\n",
       "    <tr>\n",
       "      <th>4</th>\n",
       "      <td>4</td>\n",
       "      <td>-8.858110</td>\n",
       "      <td>12.304789</td>\n",
       "      <td>972.068243</td>\n",
       "      <td>82.968876</td>\n",
       "      <td>8.748254</td>\n",
       "      <td>-100.865715</td>\n",
       "      <td>135.251746</td>\n",
       "      <td>41.592616</td>\n",
       "      <td>13565.096256</td>\n",
       "      <td>...</td>\n",
       "      <td>0.579333</td>\n",
       "      <td>0.116335</td>\n",
       "      <td>-368.274782</td>\n",
       "      <td>0.0</td>\n",
       "      <td>1886.0</td>\n",
       "      <td>1114.0</td>\n",
       "      <td>-61.761128</td>\n",
       "      <td>-679.368062</td>\n",
       "      <td>251.0</td>\n",
       "      <td>-57.845820</td>\n",
       "    </tr>\n",
       "  </tbody>\n",
       "</table>\n",
       "<p>5 rows × 482 columns</p>\n",
       "</div>"
      ],
      "text/plain": [
       "   id  value__fft_coefficient__coeff_66__attr_\"real\"  \\\n",
       "0   0                                     222.509129   \n",
       "1   1                                    1396.576617   \n",
       "2   2                                     -34.819392   \n",
       "3   3                                    2689.561936   \n",
       "4   4                                      -8.858110   \n",
       "\n",
       "   value__fft_coefficient__coeff_58__attr_\"imag\"  \\\n",
       "0                                     227.392908   \n",
       "1                                     922.347886   \n",
       "2                                     -88.152898   \n",
       "3                                    4080.327296   \n",
       "4                                      12.304789   \n",
       "\n",
       "   value__fft_coefficient__coeff_20__attr_\"abs\"  \\\n",
       "0                                   2061.138483   \n",
       "1                                   8503.897383   \n",
       "2                                    507.033012   \n",
       "3                                   9807.569078   \n",
       "4                                    972.068243   \n",
       "\n",
       "   value__fft_coefficient__coeff_66__attr_\"abs\"  \\\n",
       "0                                    674.378729   \n",
       "1                                   1457.846808   \n",
       "2                                    108.324792   \n",
       "3                                   2852.117154   \n",
       "4                                     82.968876   \n",
       "\n",
       "   value__fft_coefficient__coeff_35__attr_\"imag\"  \\\n",
       "0                                      81.219038   \n",
       "1                                    1724.899392   \n",
       "2                                      73.820233   \n",
       "3                                    6089.347629   \n",
       "4                                       8.748254   \n",
       "\n",
       "   value__fft_coefficient__coeff_62__attr_\"imag\"  \\\n",
       "0                                      42.358167   \n",
       "1                                    2100.598948   \n",
       "2                                      49.822441   \n",
       "3                                    2261.647595   \n",
       "4                                    -100.865715   \n",
       "\n",
       "   value__fft_coefficient__coeff_67__attr_\"abs\"  \\\n",
       "0                                    998.488856   \n",
       "1                                   1948.672509   \n",
       "2                                    102.634403   \n",
       "3                                    851.084350   \n",
       "4                                    135.251746   \n",
       "\n",
       "   value__fft_coefficient__coeff_98__attr_\"abs\"  \\\n",
       "0                                    527.260712   \n",
       "1                                   1414.768941   \n",
       "2                                    169.103653   \n",
       "3                                   1765.349150   \n",
       "4                                     41.592616   \n",
       "\n",
       "   value__fft_coefficient__coeff_10__attr_\"abs\"  \\\n",
       "0                                  10752.598658   \n",
       "1                                  18120.494049   \n",
       "2                                  10394.141215   \n",
       "3                                  34391.793717   \n",
       "4                                  13565.096256   \n",
       "\n",
       "                        ...                        \\\n",
       "0                       ...                         \n",
       "1                       ...                         \n",
       "2                       ...                         \n",
       "3                       ...                         \n",
       "4                       ...                         \n",
       "\n",
       "   value__index_mass_quantile__q_0.6  \\\n",
       "0                           0.598667   \n",
       "1                           0.566000   \n",
       "2                           0.567333   \n",
       "3                           0.620667   \n",
       "4                           0.579333   \n",
       "\n",
       "   value__energy_ratio_by_chunks__num_segments_10__segment_focus_5  \\\n",
       "0                                           0.092192                 \n",
       "1                                           0.117585                 \n",
       "2                                           0.120544                 \n",
       "3                                           0.127519                 \n",
       "4                                           0.116335                 \n",
       "\n",
       "   value__fft_coefficient__coeff_52__attr_\"imag\"  \\\n",
       "0                                    -795.462125   \n",
       "1                                    -762.417230   \n",
       "2                                     276.448999   \n",
       "3                                    4855.573010   \n",
       "4                                    -368.274782   \n",
       "\n",
       "   value__symmetry_looking__r_0.1  value__count_below_mean  \\\n",
       "0                             1.0                   1517.0   \n",
       "1                             1.0                   1520.0   \n",
       "2                             0.0                   1877.0   \n",
       "3                             1.0                   1162.0   \n",
       "4                             0.0                   1886.0   \n",
       "\n",
       "   value__count_above_mean  value__fft_coefficient__coeff_93__attr_\"imag\"  \\\n",
       "0                   1483.0                                    -371.665563   \n",
       "1                   1480.0                                   -1641.395094   \n",
       "2                   1123.0                                      62.417951   \n",
       "3                   1838.0                                    1075.619074   \n",
       "4                   1114.0                                     -61.761128   \n",
       "\n",
       "   value__fft_coefficient__coeff_16__attr_\"imag\"  \\\n",
       "0                                   -1028.189683   \n",
       "1                                    8124.169478   \n",
       "2                                     299.522734   \n",
       "3                                       7.273246   \n",
       "4                                    -679.368062   \n",
       "\n",
       "   value__number_cwt_peaks__n_1  \\\n",
       "0                         248.0   \n",
       "1                         241.0   \n",
       "2                         248.0   \n",
       "3                         246.0   \n",
       "4                         251.0   \n",
       "\n",
       "   value__fft_coefficient__coeff_16__attr_\"angle\"  \n",
       "0                                      -91.230499  \n",
       "1                                       72.279473  \n",
       "2                                      114.303808  \n",
       "3                                        0.160733  \n",
       "4                                      -57.845820  \n",
       "\n",
       "[5 rows x 482 columns]"
      ]
     },
     "execution_count": 10,
     "metadata": {},
     "output_type": "execute_result"
    }
   ],
   "source": [
    "from tsfresh.feature_selection.selection import select_features\n",
    "X_filtered = select_features(X_dataframe, y)\n",
    "X_filtered.head()"
   ]
  },
  {
   "cell_type": "markdown",
   "metadata": {},
   "source": [
    " "
   ]
  },
  {
   "cell_type": "code",
   "execution_count": 11,
   "metadata": {},
   "outputs": [],
   "source": [
    "from sklearn.preprocessing import scale\n",
    "X_selected = X_filtered.drop('id', axis=1)\n",
    "X_selected = scale(X_selected)"
   ]
  },
  {
   "cell_type": "code",
   "execution_count": 12,
   "metadata": {},
   "outputs": [],
   "source": [
    "import sklearn\n",
    "file_names = []\n",
    "# This is needed to check the accuracy of the predictive modelling step.\n",
    "for name in all_sites[\"SITE_ID\"].values:\n",
    "    file_names.append(name)\n",
    "    \n",
    "for i in range(15):\n",
    "    X_selected, y, file_names = sklearn.utils.shuffle(X_selected, y, file_names, random_state=0)\n",
    "    "
   ]
  },
  {
   "cell_type": "code",
   "execution_count": 13,
   "metadata": {},
   "outputs": [
    {
     "data": {
      "text/plain": [
       "(100, 481)"
      ]
     },
     "execution_count": 13,
     "metadata": {},
     "output_type": "execute_result"
    }
   ],
   "source": [
    "#X_selected = X_selected.drop('id', axis=1)\n",
    "X_selected.shape"
   ]
  },
  {
   "cell_type": "code",
   "execution_count": 14,
   "metadata": {},
   "outputs": [
    {
     "name": "stdout",
     "output_type": "stream",
     "text": [
      "[0, 10, 18, 22, 30, 33, 39, 44, 45, 53, 70, 73, 80, 83, 90]\n"
     ]
    }
   ],
   "source": [
    "files_test = []\n",
    "list_test_indices = []\n",
    "test_files = [92, 45, 761, 10, 766, 400, 673, 49, 144, 496, 731, 281, 213, 197, 399]\n",
    "\n",
    "for i in range(len(file_names)):\n",
    "    # choosing always the same examples for testing to ensure the same results ....\n",
    "    if file_names[i] in test_files:\n",
    "        list_test_indices.append(i)\n",
    "        files_test.append(file_names[i])\n",
    "        \n",
    "        \n",
    "print(list_test_indices)"
   ]
  },
  {
   "cell_type": "code",
   "execution_count": 15,
   "metadata": {},
   "outputs": [
    {
     "data": {
      "text/plain": [
       "(85, 481)"
      ]
     },
     "execution_count": 15,
     "metadata": {},
     "output_type": "execute_result"
    }
   ],
   "source": [
    "X_train = np.delete(X_selected, list_test_indices, 0)\n",
    "X_test = np.take(X_selected, list_test_indices, 0)\n",
    "y_train = np.delete(y, list_test_indices)\n",
    "y_test = np.take(y, list_test_indices)\n",
    "\n",
    "X_train.shape"
   ]
  },
  {
   "cell_type": "markdown",
   "metadata": {},
   "source": [
    ">### 3.1. SVC"
   ]
  },
  {
   "cell_type": "code",
   "execution_count": 13,
   "metadata": {},
   "outputs": [
    {
     "data": {
      "text/plain": [
       "GridSearchCV(cv=None, error_score='raise',\n",
       "       estimator=SVC(C=1.0, cache_size=200, class_weight=None, coef0=0.0,\n",
       "  decision_function_shape='ovr', degree=3, gamma='auto', kernel='rbf',\n",
       "  max_iter=-1, probability=False, random_state=None, shrinking=True,\n",
       "  tol=0.001, verbose=False),\n",
       "       fit_params=None, iid=True, n_jobs=1,\n",
       "       param_grid={'degree': [3, 4], 'shrinking': [True, False], 'probability': [True, False]},\n",
       "       pre_dispatch='2*n_jobs', refit=True, return_train_score='warn',\n",
       "       scoring=None, verbose=0)"
      ]
     },
     "execution_count": 13,
     "metadata": {},
     "output_type": "execute_result"
    }
   ],
   "source": [
    "from sklearn.model_selection import GridSearchCV\n",
    "from sklearn.svm import SVC\n",
    "\n",
    "cv_grid_svc = GridSearchCV(SVC(), param_grid = {\n",
    "    'degree':[3,4],\n",
    "    'shrinking':[True,False],\n",
    "    'probability':[True,False]\n",
    "})\n",
    "\n",
    "cv_grid_svc.fit(X_train, y_train)"
   ]
  },
  {
   "cell_type": "code",
   "execution_count": 14,
   "metadata": {},
   "outputs": [
    {
     "name": "stdout",
     "output_type": "stream",
     "text": [
      "{'degree': 3, 'probability': True, 'shrinking': True}\n",
      "NUMBER OF ERRORS: 3\n",
      "ERROR RATE: 0.19999999999999996%\n",
      "Accuracy of the best classifier after CV is 80.000%\n"
     ]
    }
   ],
   "source": [
    "from sklearn import metrics\n",
    "\n",
    "bestclassifier_svc=cv_grid_svc.best_estimator_\n",
    "\n",
    "y_predict_svc = bestclassifier_svc.predict(X_test)\n",
    "accuracy = metrics.accuracy_score(y_test,y_predict_svc)\n",
    "print(cv_grid_svc.best_params_)\n",
    "print(\"NUMBER OF ERRORS: \" + str(sum(y_predict_svc != y_test)))\n",
    "print(\"ERROR RATE: \" + str(1 - sum(y_predict_svc == y_test) / float(len(y_predict_svc))) + \"%\")\n",
    "print('Accuracy of the best classifier after CV is %.3f%%' % (accuracy*100))"
   ]
  },
  {
   "cell_type": "markdown",
   "metadata": {},
   "source": [
    ">### 3.2. Random Forest"
   ]
  },
  {
   "cell_type": "code",
   "execution_count": 15,
   "metadata": {},
   "outputs": [
    {
     "name": "stderr",
     "output_type": "stream",
     "text": [
      "c:\\python-env2\\lib\\site-packages\\sklearn\\ensemble\\weight_boosting.py:29: DeprecationWarning: numpy.core.umath_tests is an internal NumPy module and should not be imported. It will be removed in a future NumPy release.\n",
      "  from numpy.core.umath_tests import inner1d\n"
     ]
    },
    {
     "data": {
      "text/plain": [
       "GridSearchCV(cv=10, error_score='raise',\n",
       "       estimator=RandomForestClassifier(bootstrap=True, class_weight=None, criterion='gini',\n",
       "            max_depth=None, max_features='auto', max_leaf_nodes=None,\n",
       "            min_impurity_decrease=0.0, min_impurity_split=None,\n",
       "            min_samples_leaf=1, min_samples_split=2,\n",
       "            min_weight_fraction_leaf=0.0, n_estimators=10, n_jobs=1,\n",
       "            oob_score=False, random_state=None, verbose=0,\n",
       "            warm_start=False),\n",
       "       fit_params=None, iid=True, n_jobs=1,\n",
       "       param_grid={'n_estimators': range(10, 100, 10), 'max_features': ['auto', 'sqrt', 'log2'], 'max_depth': [4, 5, 6, 7, 8], 'criterion': ['gini', 'entropy']},\n",
       "       pre_dispatch='2*n_jobs', refit=True, return_train_score='warn',\n",
       "       scoring=None, verbose=0)"
      ]
     },
     "execution_count": 15,
     "metadata": {},
     "output_type": "execute_result"
    }
   ],
   "source": [
    "from sklearn.model_selection import GridSearchCV\n",
    "from sklearn.neighbors import KNeighborsClassifier\n",
    "from sklearn.tree import DecisionTreeClassifier\n",
    "from sklearn.ensemble import RandomForestClassifier\n",
    "\n",
    "cv_grid_rf = GridSearchCV(estimator = RandomForestClassifier(), param_grid = {\n",
    "    'n_estimators': range(10, 100, 10),\n",
    "    'max_features': ['auto', 'sqrt', 'log2'],\n",
    "    'max_depth' : [4,5,6,7,8],\n",
    "    'criterion' :['gini', 'entropy']\n",
    "}, cv=10)\n",
    "\n",
    "cv_grid_rf.fit(X_train, y_train)"
   ]
  },
  {
   "cell_type": "code",
   "execution_count": 16,
   "metadata": {},
   "outputs": [
    {
     "name": "stdout",
     "output_type": "stream",
     "text": [
      "{'criterion': 'gini', 'max_depth': 4, 'max_features': 'log2', 'n_estimators': 70}\n",
      "NUMBER OF ERRORS: 4\n",
      "ERROR RATE: 0.2666666666666667%\n",
      "Accuracy of the best classifier after CV is 73.333%\n"
     ]
    }
   ],
   "source": [
    "from sklearn import metrics\n",
    "\n",
    "bestclassifier_rf=cv_grid_rf.best_estimator_\n",
    "\n",
    "y_predict_rf = bestclassifier_rf.predict(X_test)\n",
    "accuracy = metrics.accuracy_score(y_test,y_predict_rf)\n",
    "print(cv_grid_rf.best_params_)\n",
    "print(\"NUMBER OF ERRORS: \" + str(sum(y_predict_rf != y_test)))\n",
    "print(\"ERROR RATE: \" + str(1 - sum(y_predict_rf == y_test) / float(len(y_predict_rf))) + \"%\")\n",
    "print('Accuracy of the best classifier after CV is %.3f%%' % (accuracy*100))"
   ]
  },
  {
   "cell_type": "markdown",
   "metadata": {},
   "source": [
    ">### 3.3. Logistic Regression"
   ]
  },
  {
   "cell_type": "code",
   "execution_count": 17,
   "metadata": {},
   "outputs": [
    {
     "data": {
      "text/plain": [
       "GridSearchCV(cv=10, error_score='raise',\n",
       "       estimator=LogisticRegression(C=1.0, class_weight=None, dual=False, fit_intercept=True,\n",
       "          intercept_scaling=1, max_iter=100, multi_class='ovr', n_jobs=1,\n",
       "          penalty='l2', random_state=None, solver='liblinear', tol=0.0001,\n",
       "          verbose=0, warm_start=False),\n",
       "       fit_params=None, iid=True, n_jobs=1,\n",
       "       param_grid={'C': array([1.00000e+00, 2.78256e+00, 7.74264e+00, 2.15443e+01, 5.99484e+01,\n",
       "       1.66810e+02, 4.64159e+02, 1.29155e+03, 3.59381e+03, 1.00000e+04]), 'penalty': ['l1', 'l2']},\n",
       "       pre_dispatch='2*n_jobs', refit=True, return_train_score='warn',\n",
       "       scoring=None, verbose=0)"
      ]
     },
     "execution_count": 17,
     "metadata": {},
     "output_type": "execute_result"
    }
   ],
   "source": [
    "from sklearn.model_selection import GridSearchCV\n",
    "from sklearn.linear_model import LogisticRegression\n",
    "\n",
    "cv_grid_lr = GridSearchCV(estimator = LogisticRegression(), param_grid = {\n",
    "    'C': np.logspace(0, 4, 10),\n",
    "    'penalty': ['l1', 'l2'],\n",
    "}, cv=10)\n",
    "\n",
    "cv_grid_lr.fit(X_train, y_train)"
   ]
  },
  {
   "cell_type": "code",
   "execution_count": 18,
   "metadata": {},
   "outputs": [
    {
     "name": "stdout",
     "output_type": "stream",
     "text": [
      "{'C': 2.7825594022071245, 'penalty': 'l2'}\n",
      "NUMBER OF ERRORS: 6\n",
      "ERROR RATE: 0.4%\n",
      "Accuracy of the best classifier after CV is 60.000%\n"
     ]
    }
   ],
   "source": [
    "from sklearn import metrics\n",
    "\n",
    "bestclassifier_lr=cv_grid_lr.best_estimator_\n",
    "\n",
    "y_predict_lr = bestclassifier_lr.predict(X_test)\n",
    "accuracy = metrics.accuracy_score(y_test,y_predict_lr)\n",
    "print(cv_grid_lr.best_params_)\n",
    "print(\"NUMBER OF ERRORS: \" + str(sum(y_predict_lr != y_test)))\n",
    "print(\"ERROR RATE: \" + str(1 - sum(y_predict_lr == y_test) / float(len(y_predict_lr))) + \"%\")\n",
    "print('Accuracy of the best classifier after CV is %.3f%%' % (accuracy*100))"
   ]
  },
  {
   "cell_type": "markdown",
   "metadata": {},
   "source": [
    ">### 3.4. KNN"
   ]
  },
  {
   "cell_type": "code",
   "execution_count": 19,
   "metadata": {},
   "outputs": [
    {
     "data": {
      "text/plain": [
       "GridSearchCV(cv=10, error_score='raise',\n",
       "       estimator=KNeighborsClassifier(algorithm='auto', leaf_size=30, metric='minkowski',\n",
       "           metric_params=None, n_jobs=1, n_neighbors=5, p=2,\n",
       "           weights='uniform'),\n",
       "       fit_params=None, iid=True, n_jobs=1,\n",
       "       param_grid={'n_neighbors': [4, 5, 6, 7], 'leaf_size': [1, 3, 5], 'algorithm': ['auto', 'kd_tree']},\n",
       "       pre_dispatch='2*n_jobs', refit=True, return_train_score='warn',\n",
       "       scoring=None, verbose=0)"
      ]
     },
     "execution_count": 19,
     "metadata": {},
     "output_type": "execute_result"
    }
   ],
   "source": [
    "from sklearn.model_selection import GridSearchCV\n",
    "\n",
    "cv_grid_knn = GridSearchCV(estimator = KNeighborsClassifier(), param_grid = {\n",
    "    'n_neighbors':[4,5,6,7],\n",
    "    'leaf_size':[1,3,5],\n",
    "    'algorithm':['auto', 'kd_tree']\n",
    "}, cv=10)\n",
    "\n",
    "cv_grid_knn.fit(X_train, y_train)"
   ]
  },
  {
   "cell_type": "code",
   "execution_count": 20,
   "metadata": {},
   "outputs": [
    {
     "name": "stdout",
     "output_type": "stream",
     "text": [
      "{'algorithm': 'auto', 'leaf_size': 1, 'n_neighbors': 4}\n",
      "NUMBER OF ERRORS: 5\n",
      "ERROR RATE: 0.33333333333333337%\n",
      "Accuracy of the best classifier after CV is 66.667%\n"
     ]
    }
   ],
   "source": [
    "from sklearn import metrics\n",
    "\n",
    "bestclassifier_knn=cv_grid_knn.best_estimator_\n",
    "\n",
    "y_predict_knn = bestclassifier_knn.predict(X_test)\n",
    "accuracy = metrics.accuracy_score(y_test,y_predict_knn)\n",
    "print(cv_grid_knn.best_params_)\n",
    "print(\"NUMBER OF ERRORS: \" + str(sum(y_predict_knn != y_test)))\n",
    "print(\"ERROR RATE: \" + str(1 - sum(y_predict_knn == y_test) / float(len(y_predict_knn))) + \"%\")\n",
    "print('Accuracy of the best classifier after CV is %.3f%%' % (accuracy*100))"
   ]
  },
  {
   "cell_type": "markdown",
   "metadata": {},
   "source": [
    ">### 3.5. XGBOOST"
   ]
  },
  {
   "cell_type": "code",
   "execution_count": 16,
   "metadata": {},
   "outputs": [
    {
     "data": {
      "text/plain": [
       "GridSearchCV(cv=10, error_score='raise',\n",
       "       estimator=XGBClassifier(base_score=0.5, booster='gbtree', colsample_bylevel=1,\n",
       "       colsample_bynode=1, colsample_bytree=1, gamma=0, learning_rate=0.1,\n",
       "       max_delta_step=0, max_depth=3, min_child_weight=1, missing=None,\n",
       "       n_estimators=100, n_jobs=1, nthread=None,\n",
       "       objective='binary:logistic', random_state=0, reg_alpha=0,\n",
       "       reg_lambda=1, scale_pos_weight=1, seed=None, silent=None,\n",
       "       subsample=1, verbosity=1),\n",
       "       fit_params=None, iid=True, n_jobs=1,\n",
       "       param_grid={'max_depth': range(2, 10), 'n_estimators': range(10, 100, 10), 'learning_rate': [0.1, 0.01, 0.05]},\n",
       "       pre_dispatch='2*n_jobs', refit=True, return_train_score='warn',\n",
       "       scoring=None, verbose=0)"
      ]
     },
     "execution_count": 16,
     "metadata": {},
     "output_type": "execute_result"
    }
   ],
   "source": [
    "from sklearn.model_selection import GridSearchCV\n",
    "from xgboost import XGBClassifier\n",
    "import warnings \n",
    "warnings.filterwarnings('ignore')\n",
    "\n",
    "cv_grid_xb = GridSearchCV(estimator = XGBClassifier(), param_grid = {\n",
    "    'max_depth': range (2, 10, 1),\n",
    "    'n_estimators': range(10, 100, 10),\n",
    "    'learning_rate': [0.1, 0.01, 0.05]\n",
    "}, cv=10)\n",
    "\n",
    "cv_grid_xb.fit(X_train, y_train)\n"
   ]
  },
  {
   "cell_type": "code",
   "execution_count": 17,
   "metadata": {},
   "outputs": [
    {
     "name": "stdout",
     "output_type": "stream",
     "text": [
      "{'learning_rate': 0.1, 'max_depth': 2, 'n_estimators': 10}\n",
      "NUMBER OF ERRORS: 5\n",
      "ERROR RATE: 0.33333333333333337%\n",
      "Accuracy of the best classifier after CV is 66.667%\n"
     ]
    }
   ],
   "source": [
    "from sklearn import metrics\n",
    "\n",
    "bestclassifier_xb=cv_grid_xb.best_estimator_\n",
    "\n",
    "y_predict_xb = bestclassifier_xb.predict(X_test)\n",
    "accuracy = metrics.accuracy_score(y_test,y_predict_xb)\n",
    "print(cv_grid_xb.best_params_)\n",
    "print(\"NUMBER OF ERRORS: \" + str(sum(y_predict_xb != y_test)))\n",
    "print(\"ERROR RATE: \" + str(1 - sum(y_predict_xb == y_test) / float(len(y_predict_xb))) + \"%\")\n",
    "print('Accuracy of the best classifier after CV is %.3f%%' % (accuracy*100))"
   ]
  }
 ],
 "metadata": {
  "kernelspec": {
   "display_name": "Python 3",
   "language": "python",
   "name": "python3"
  },
  "language_info": {
   "codemirror_mode": {
    "name": "ipython",
    "version": 3
   },
   "file_extension": ".py",
   "mimetype": "text/x-python",
   "name": "python",
   "nbconvert_exporter": "python",
   "pygments_lexer": "ipython3",
   "version": "3.6.7"
  }
 },
 "nbformat": 4,
 "nbformat_minor": 4
}
